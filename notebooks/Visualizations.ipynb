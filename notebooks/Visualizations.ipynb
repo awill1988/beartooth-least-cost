{
 "cells": [
  {
   "cell_type": "markdown",
   "id": "084b1b40",
   "metadata": {},
   "source": [
    "# Beartooth Least Cost Path Ultra Marathon\n",
    "## Visualizations\n",
    "\n",
    "Inspired by content found here: https://learning.oreilly.com/library/view/python-geospatial-analysis"
   ]
  },
  {
   "cell_type": "markdown",
   "id": "44eea8db",
   "metadata": {},
   "source": [
    "By using [Peakbagger.com](https://www.peakbagger.com/range.aspx?rid=14411), peeking at the network calls in the web browser's Dev Console, it is possible to scrape out the coordinates that constitute a decent bounding box that will represent the map extent required to determine the least cost path."
   ]
  },
  {
   "cell_type": "code",
   "execution_count": 1,
   "id": "37385504",
   "metadata": {},
   "outputs": [
    {
     "data": {
      "text/plain": [
       "<AxesSubplot:>"
      ]
     },
     "execution_count": 1,
     "metadata": {},
     "output_type": "execute_result"
    },
    {
     "data": {
      "image/png": "[encoded data removed]",
      "text/plain": [
       "<Figure size 432x288 with 1 Axes>"
      ]
     },
     "metadata": {
      "needs_background": "light"
     },
     "output_type": "display_data"
    }
   ],
   "source": [
    "from btlcp.geo import bbox\n",
    "from geopandas import GeoDataFrame\n",
    "from fsspec import open\n",
    "from shapely.geometry import Point, box\n",
    "\n",
    "crs=\"EPSG:4326\"\n",
    "\n",
    "map_extent = GeoDataFrame(index=[0], crs=crs, geometry=[bbox()])\n",
    "\n",
    "map_extent.plot()"
   ]
  },
  {
   "cell_type": "markdown",
   "id": "d6cd6960",
   "metadata": {},
   "source": [
    "Now, show the various peaks we need to traverse and determine the best route. In our source code library, we created a `waypoints` function that returns statically generated values."
   ]
  },
  {
   "cell_type": "code",
   "execution_count": 2,
   "id": "a79b967a",
   "metadata": {},
   "outputs": [
    {
     "data": {
      "text/plain": [
       "<AxesSubplot:>"
      ]
     },
     "execution_count": 2,
     "metadata": {},
     "output_type": "execute_result"
    },
    {
     "data": {
      "image/png": "[encoded data removed]",
      "text/plain": [
       "<Figure size 432x288 with 1 Axes>"
      ]
     },
     "metadata": {
      "needs_background": "light"
     },
     "output_type": "display_data"
    }
   ],
   "source": [
    "from btlcp.geo import waypoints\n",
    "from geopandas import GeoDataFrame\n",
    "from shapely.geometry import Point\n",
    "\n",
    "points = []\n",
    "names = []\n",
    "\n",
    "crs=\"EPSG:4326\"\n",
    "\n",
    "for (name, latlon) in waypoints(): \n",
    "    points.append(Point(latlon[1], latlon[0]))\n",
    "    names.append(name)\n",
    "\n",
    "gdf = GeoDataFrame(dict(\n",
    "    name=names,\n",
    "    geometry=points,\n",
    "))\n",
    "\n",
    "gdf.plot()"
   ]
  }
 ],
 "metadata": {
  "kernelspec": {
   "display_name": "Python 3 (ipykernel)",
   "language": "python",
   "name": "python3"
  },
  "language_info": {
   "codemirror_mode": {
    "name": "ipython",
    "version": 3
   },
   "file_extension": ".py",
   "mimetype": "text/x-python",
   "name": "python",
   "nbconvert_exporter": "python",
   "pygments_lexer": "ipython3",
   "version": "3.10.5"
  },
  "vscode": {
   "interpreter": {
    "hash": "27a8ad5ed7c482528f37ad34b92a8a1929381994cd0fdf5ef611e254ccdb776b"
   }
  }
 },
 "nbformat": 4,
 "nbformat_minor": 5
}
