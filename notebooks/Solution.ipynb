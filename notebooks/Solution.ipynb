{
 "cells": [
  {
   "cell_type": "markdown",
   "id": "084b1b40",
   "metadata": {},
   "source": [
    "# Beartooth Least Cost Path Ultra Marathon"
   ]
  },
  {
   "cell_type": "code",
   "execution_count": 1,
   "id": "cda880b6",
   "metadata": {},
   "outputs": [],
   "source": [
    "from btlcp.geo import locations"
   ]
  },
  {
   "cell_type": "markdown",
   "id": "d6cd6960",
   "metadata": {},
   "source": [
    "The following line will execute the `echo` function which will for each argument print the value and insert a line break."
   ]
  },
  {
   "cell_type": "code",
   "execution_count": 3,
   "id": "a79b967a",
   "metadata": {},
   "outputs": [
    {
     "data": {
      "text/plain": [
       "frozenset({('Beartooth Mountain', (45.060833, -109.568611)),\n",
       "           ('Castle Mountain', (45.098889, -109.630556)),\n",
       "           ('Castle Rock Mountain', (45.098333, -109.653889)),\n",
       "           ('Castle Rock Spire', (45.097222, -109.643056)),\n",
       "           ('Granite Peak', (45.163427, -109.807456)),\n",
       "           ('Mount Peal', (45.160833, -109.772778)),\n",
       "           ('Mount Wood', (45.275278, -109.813333)),\n",
       "           ('Silver Run Peak', (45.121111, -109.545278)),\n",
       "           ('Tempest Mountain', (45.166944, -109.791944)),\n",
       "           ('Whitetail Peak', (45.088889, -109.587778))})"
      ]
     },
     "execution_count": 3,
     "metadata": {},
     "output_type": "execute_result"
    }
   ],
   "source": [
    "peaks = locations()\n",
    "\n",
    "peaks"
   ]
  },
  {
   "cell_type": "code",
   "execution_count": null,
   "id": "b48b51fc",
   "metadata": {},
   "outputs": [],
   "source": []
  }
 ],
 "metadata": {
  "kernelspec": {
   "display_name": "Python 3 (ipykernel)",
   "language": "python",
   "name": "python3"
  },
  "language_info": {
   "codemirror_mode": {
    "name": "ipython",
    "version": 3
   },
   "file_extension": ".py",
   "mimetype": "text/x-python",
   "name": "python",
   "nbconvert_exporter": "python",
   "pygments_lexer": "ipython3",
   "version": "3.10.5"
  },
  "vscode": {
   "interpreter": {
    "hash": "27a8ad5ed7c482528f37ad34b92a8a1929381994cd0fdf5ef611e254ccdb776b"
   }
  }
 },
 "nbformat": 4,
 "nbformat_minor": 5
}
