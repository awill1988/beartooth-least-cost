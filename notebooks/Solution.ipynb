{
 "cells": [
  {
   "cell_type": "markdown",
   "id": "084b1b40",
   "metadata": {},
   "source": [
    "# [Beartooth Least Cost Path Ultra Marathon](https://beartoothleastcostpath.github.io/)"
   ]
  },
  {
   "cell_type": "markdown",
   "id": "8232ebd4",
   "metadata": {},
   "source": [
    "## 1. Determine all possible paths\n",
    "Using a bit of discrete math, we can envisage the solution must exist in a set of permutations in the given set of Beartooth Mountain Range peaks"
   ]
  },
  {
   "cell_type": "code",
   "execution_count": 1,
   "id": "784dc731",
   "metadata": {},
   "outputs": [
    {
     "name": "stdout",
     "output_type": "stream",
     "text": [
      "There are 3628800 possible paths to choose from.\n"
     ]
    }
   ],
   "source": [
    "from collections import Counter\n",
    "from itertools import permutations \n",
    "from btlcp.geo import waypoints\n",
    "from numpy import array\n",
    "\n",
    "# we will count the number of discrete paths to traverse\n",
    "possibilities = set()\n",
    "\n",
    "# convert the set to a list because order matters\n",
    "peaks = list([peak for peak in waypoints()])\n",
    "\n",
    "# the total number of waypoints that must be visited\n",
    "num_peaks = len(peaks)\n",
    "\n",
    "# make a list of indexes because calculating permutations is faster that way\n",
    "peak_indexes = array([i for i in range(0, num_peaks)])\n",
    "\n",
    "# use the indexes to find all possible permutations a backpacker can take\n",
    "path_permutations = permutations(peak_indexes)\n",
    "\n",
    "for path in path_permutations:\n",
    "    possibilities.add(path)\n",
    "\n",
    "path_permutations = None\n",
    "\n",
    "print(f\"There are {len(possibilities)} possible paths to choose from.\")"
   ]
  },
  {
   "cell_type": "markdown",
   "id": "47aa0fc0",
   "metadata": {},
   "source": [
    "Perhaps the most naive attempt would be to find the \"least cost\" as a function of distance traveled"
   ]
  },
  {
   "cell_type": "code",
   "execution_count": 2,
   "id": "40de67cd",
   "metadata": {},
   "outputs": [],
   "source": [
    "from numpy import array\n",
    "from pyproj import Geod\n",
    "\n",
    "def calc_euclidian_distance(arr = None):\n",
    "    arr = arr or array()\n",
    "    \n",
    "    g = Geod(ellps='WGS84')\n",
    "\n",
    "    src = arr[0]\n",
    "    distances = []\n",
    "\n",
    "    for i in range(1, len(arr)):\n",
    "        dst = arr[i]\n",
    "        _, _, dist = g.inv(src[1], src[0], dst[1], dst[0])\n",
    "        distances.append(dist)\n",
    "        src = dst\n",
    "    \n",
    "    return array(distances)\n"
   ]
  },
  {
   "cell_type": "code",
   "execution_count": 26,
   "id": "a8a11875",
   "metadata": {},
   "outputs": [],
   "source": [
    "from pandas import DataFrame\n",
    "from numpy import array, nan\n",
    "\n",
    "possible_paths = dict(\n",
    "    indexes=[],\n",
    "    # for display\n",
    "    name=[],\n",
    "    # for calc\n",
    "    latlon=[],\n",
    "    # heuristic\n",
    "    segment_distance=[],\n",
    "    total_distance=[],\n",
    ")\n",
    "\n",
    "# max_iter = 100\n",
    "\n",
    "for (index, possibility) in enumerate(possibilities):\n",
    "    # if index >= max_iter:\n",
    "    #     break\n",
    "    by_name = array([peaks[i][0] for i in possibility])\n",
    "    by_latlon = array([peaks[i][1] for i in possibility])\n",
    "    by_distance = calc_euclidian_distance([peaks[i][1] for i in possibility])\n",
    "    by_total_distance = by_distance.sum()\n",
    "    possible_paths['indexes'].append(possibility)\n",
    "    possible_paths['name'].append(by_name)\n",
    "    possible_paths['latlon'].append(by_latlon)\n",
    "    possible_paths['segment_distance'].append(by_distance)\n",
    "    possible_paths['total_distance'].append(by_total_distance)\n",
    "\n",
    "\n",
    "df = DataFrame(possible_paths)"
   ]
  },
  {
   "cell_type": "code",
   "execution_count": 65,
   "metadata": {},
   "outputs": [
    {
     "name": "stdout",
     "output_type": "stream",
     "text": [
      "By euclidean total distance, the least cost path is a tie between the following routes:\n",
      "\n",
      "Silver Run Peak -> Beartooth Mountain -> Whitetail Peak -> Castle Mountain -> Castle Rock Spire -> Castle Rock Mountain -> Mount Peal -> Tempest Mountain -> Granite Peak -> Mount Wood\n",
      "Mount Wood -> Granite Peak -> Tempest Mountain -> Mount Peal -> Castle Rock Mountain -> Castle Rock Spire -> Castle Mountain -> Whitetail Peak -> Beartooth Mountain -> Silver Run Peak\n"
     ]
    }
   ],
   "source": [
    "\n",
    "least_cost_by_euclidean_distance = []\n",
    "\n",
    "shortest_paths_indexes = df[df.total_distance == df.total_distance.min()].indexes\n",
    "\n",
    "for i, indexes in enumerate(shortest_paths_indexes):\n",
    "    least_cost_by_euclidean_distance.append([])\n",
    "    for index in indexes:\n",
    "        least_cost_by_euclidean_distance[i].append(peaks[index])\n",
    "\n",
    "\n",
    "print(\"By euclidean total distance, the least cost path is a tie between the following routes:\\n\")\n",
    "\n",
    "msgs = []\n",
    "for path in least_cost_by_euclidean_distance:\n",
    "    msg = \" -> \".join([p[0] for p in path])\n",
    "    print(msg)"
   ]
  }
 ],
 "metadata": {
  "kernelspec": {
   "display_name": "Python 3 (ipykernel)",
   "language": "python",
   "name": "python3"
  },
  "language_info": {
   "codemirror_mode": {
    "name": "ipython",
    "version": 3
   },
   "file_extension": ".py",
   "mimetype": "text/x-python",
   "name": "python",
   "nbconvert_exporter": "python",
   "pygments_lexer": "ipython3",
   "version": "3.10.5"
  },
  "vscode": {
   "interpreter": {
    "hash": "27a8ad5ed7c482528f37ad34b92a8a1929381994cd0fdf5ef611e254ccdb776b"
   }
  }
 },
 "nbformat": 4,
 "nbformat_minor": 5
}
