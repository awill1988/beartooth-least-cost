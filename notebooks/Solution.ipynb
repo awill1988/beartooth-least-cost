{
 "cells": [
  {
   "cell_type": "markdown",
   "id": "084b1b40",
   "metadata": {},
   "source": [
    "# [Beartooth Least Cost Path Ultra Marathon](https://beartoothleastcostpath.github.io/)"
   ]
  },
  {
   "cell_type": "markdown",
   "id": "8232ebd4",
   "metadata": {},
   "source": [
    "## 1. Determine all possible paths\n",
    "Using a bit of discrete math, we can envisage the solution must exist in a set of permutations in the given set of Beartooth Mountain Range peaks"
   ]
  },
  {
   "cell_type": "code",
   "execution_count": 9,
   "metadata": {},
   "outputs": [
    {
     "name": "stdout",
     "output_type": "stream",
     "text": [
      "There are 3628800 possible paths to choose from.\n"
     ]
    }
   ],
   "source": [
    "from collections import Counter\n",
    "from itertools import permutations \n",
    "from btlcp.geo import waypoints\n",
    "from numpy import array\n",
    "\n",
    "# we will count the number of discrete paths to traverse\n",
    "possibilities = set()\n",
    "\n",
    "# convert the set to a list because order matters\n",
    "peaks = list([peak for peak in waypoints()])\n",
    "\n",
    "# the total number of waypoints that must be visited\n",
    "num_peaks = len(peaks)\n",
    "\n",
    "# make a list of indexes because calculating permutations is faster that way\n",
    "peak_indexes = array([i for i in range(0, num_peaks)])\n",
    "\n",
    "# use the indexes to find all possible permutations a backpacker can take\n",
    "path_permutations = permutations(peak_indexes)\n",
    "\n",
    "for path in path_permutations:\n",
    "    possibilities.add(path)\n",
    "\n",
    "print(f\"There are {len(possibilities)} possible paths to choose from.\")\n"
   ]
  },
  {
   "cell_type": "code",
   "execution_count": 20,
   "id": "a8a11875",
   "metadata": {},
   "outputs": [
    {
     "data": {
      "text/html": [
       "<div>\n",
       "<style scoped>\n",
       "    .dataframe tbody tr th:only-of-type {\n",
       "        vertical-align: middle;\n",
       "    }\n",
       "\n",
       "    .dataframe tbody tr th {\n",
       "        vertical-align: top;\n",
       "    }\n",
       "\n",
       "    .dataframe thead th {\n",
       "        text-align: right;\n",
       "    }\n",
       "</style>\n",
       "<table border=\"1\" class=\"dataframe\">\n",
       "  <thead>\n",
       "    <tr style=\"text-align: right;\">\n",
       "      <th></th>\n",
       "      <th>name</th>\n",
       "      <th>latlon</th>\n",
       "    </tr>\n",
       "  </thead>\n",
       "  <tbody>\n",
       "    <tr>\n",
       "      <th>0</th>\n",
       "      <td>[Mount Peal, Tempest Mountain, Castle Mountain...</td>\n",
       "      <td>[[45.160833, -109.772778], [45.166944, -109.79...</td>\n",
       "    </tr>\n",
       "    <tr>\n",
       "      <th>1</th>\n",
       "      <td>[Granite Peak, Beartooth Mountain, Castle Rock...</td>\n",
       "      <td>[[45.163427, -109.807456], [45.060833, -109.56...</td>\n",
       "    </tr>\n",
       "    <tr>\n",
       "      <th>2</th>\n",
       "      <td>[Tempest Mountain, Whitetail Peak, Castle Rock...</td>\n",
       "      <td>[[45.166944, -109.791944], [45.088889, -109.58...</td>\n",
       "    </tr>\n",
       "    <tr>\n",
       "      <th>3</th>\n",
       "      <td>[Beartooth Mountain, Castle Rock Spire, Castle...</td>\n",
       "      <td>[[45.060833, -109.568611], [45.097222, -109.64...</td>\n",
       "    </tr>\n",
       "    <tr>\n",
       "      <th>4</th>\n",
       "      <td>[Tempest Mountain, Beartooth Mountain, Silver ...</td>\n",
       "      <td>[[45.166944, -109.791944], [45.060833, -109.56...</td>\n",
       "    </tr>\n",
       "    <tr>\n",
       "      <th>...</th>\n",
       "      <td>...</td>\n",
       "      <td>...</td>\n",
       "    </tr>\n",
       "    <tr>\n",
       "      <th>3628795</th>\n",
       "      <td>[Castle Mountain, Granite Peak, Beartooth Moun...</td>\n",
       "      <td>[[45.098889, -109.630556], [45.163427, -109.80...</td>\n",
       "    </tr>\n",
       "    <tr>\n",
       "      <th>3628796</th>\n",
       "      <td>[Castle Mountain, Granite Peak, Tempest Mounta...</td>\n",
       "      <td>[[45.098889, -109.630556], [45.163427, -109.80...</td>\n",
       "    </tr>\n",
       "    <tr>\n",
       "      <th>3628797</th>\n",
       "      <td>[Mount Peal, Castle Rock Mountain, Castle Moun...</td>\n",
       "      <td>[[45.160833, -109.772778], [45.098333, -109.65...</td>\n",
       "    </tr>\n",
       "    <tr>\n",
       "      <th>3628798</th>\n",
       "      <td>[Mount Wood, Granite Peak, Silver Run Peak, Ca...</td>\n",
       "      <td>[[45.275278, -109.813333], [45.163427, -109.80...</td>\n",
       "    </tr>\n",
       "    <tr>\n",
       "      <th>3628799</th>\n",
       "      <td>[Whitetail Peak, Beartooth Mountain, Mount Woo...</td>\n",
       "      <td>[[45.088889, -109.587778], [45.060833, -109.56...</td>\n",
       "    </tr>\n",
       "  </tbody>\n",
       "</table>\n",
       "<p>3628800 rows × 2 columns</p>\n",
       "</div>"
      ],
      "text/plain": [
       "                                                      name                                             latlon\n",
       "0        [Mount Peal, Tempest Mountain, Castle Mountain...  [[45.160833, -109.772778], [45.166944, -109.79...\n",
       "1        [Granite Peak, Beartooth Mountain, Castle Rock...  [[45.163427, -109.807456], [45.060833, -109.56...\n",
       "2        [Tempest Mountain, Whitetail Peak, Castle Rock...  [[45.166944, -109.791944], [45.088889, -109.58...\n",
       "3        [Beartooth Mountain, Castle Rock Spire, Castle...  [[45.060833, -109.568611], [45.097222, -109.64...\n",
       "4        [Tempest Mountain, Beartooth Mountain, Silver ...  [[45.166944, -109.791944], [45.060833, -109.56...\n",
       "...                                                    ...                                                ...\n",
       "3628795  [Castle Mountain, Granite Peak, Beartooth Moun...  [[45.098889, -109.630556], [45.163427, -109.80...\n",
       "3628796  [Castle Mountain, Granite Peak, Tempest Mounta...  [[45.098889, -109.630556], [45.163427, -109.80...\n",
       "3628797  [Mount Peal, Castle Rock Mountain, Castle Moun...  [[45.160833, -109.772778], [45.098333, -109.65...\n",
       "3628798  [Mount Wood, Granite Peak, Silver Run Peak, Ca...  [[45.275278, -109.813333], [45.163427, -109.80...\n",
       "3628799  [Whitetail Peak, Beartooth Mountain, Mount Woo...  [[45.088889, -109.587778], [45.060833, -109.56...\n",
       "\n",
       "[3628800 rows x 2 columns]"
      ]
     },
     "execution_count": 20,
     "metadata": {},
     "output_type": "execute_result"
    }
   ],
   "source": [
    "from pandas import DataFrame\n",
    "from numpy import array\n",
    "\n",
    "possible_paths = dict(\n",
    "    name=[],\n",
    "    latlon=[]\n",
    ")\n",
    "\n",
    "for possibility in possibilities:\n",
    "    by_name = array([peaks[i][0] for i in possibility])\n",
    "    by_latlon = array([peaks[i][1] for i in possibility])\n",
    "    possible_paths['name'].append(by_name)\n",
    "    possible_paths['latlon'].append(by_latlon)\n",
    "\n",
    "df = DataFrame(possible_paths)\n",
    "\n",
    "df"
   ]
  }
 ],
 "metadata": {
  "kernelspec": {
   "display_name": "Python 3 (ipykernel)",
   "language": "python",
   "name": "python3"
  },
  "language_info": {
   "codemirror_mode": {
    "name": "ipython",
    "version": 3
   },
   "file_extension": ".py",
   "mimetype": "text/x-python",
   "name": "python",
   "nbconvert_exporter": "python",
   "pygments_lexer": "ipython3",
   "version": "3.10.5"
  },
  "vscode": {
   "interpreter": {
    "hash": "27a8ad5ed7c482528f37ad34b92a8a1929381994cd0fdf5ef611e254ccdb776b"
   }
  }
 },
 "nbformat": 4,
 "nbformat_minor": 5
}
